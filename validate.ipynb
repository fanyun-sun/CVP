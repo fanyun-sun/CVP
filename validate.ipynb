{
 "cells": [
  {
   "cell_type": "code",
   "execution_count": 3,
   "metadata": {},
   "outputs": [],
   "source": [
    "from __future__ import print_function\n",
    "\n",
    "import os\n",
    "import torch\n",
    "from cfgs.test_cfgs import TestOptions\n",
    "from utils import model_utils\n",
    "import cvp.vis as vis_utils\n",
    "from cvp.logger import Logger\n",
    "from cvp.losses import LossManager\n",
    "\n",
    "torch.manual_seed(123)\n",
    "    \n",
    "args = TestOptions()\n",
    "\n",
    "if not args.initialized:\n",
    "    args.initialize() \n",
    "args.opt = args.parser.parse_args('')\n",
    "os.environ['CUDA_VISIBLE_DEVICES'] = args.opt.gpu\n",
    "args.opt = args.set_default_args(args.opt)\n",
    "args = args.opt\n",
    "\n",
    "# default\n",
    "args.kl_loss_weight = 1e-2\n",
    "args.l1_dst_loss_weight = 1.\n",
    "args.bbox_loss_weight = 1.#100\n",
    "args.l1_src_loss_weight = 1.\n",
    "\n",
    "args.gpu = 1\n",
    "args.dataset = 'vvn/collide2_new'\n",
    "args.checkpoint = './output/tmp/vvn/collide2_newrgb_cvp_traj_comb_late_fact_gc_n2e2n_Ppix1_iter10.pth'\n",
    "\n",
    "args.dt = 10"
   ]
  },
  {
   "cell_type": "code",
   "execution_count": 4,
   "metadata": {},
   "outputs": [
    {
     "name": "stdout",
     "output_type": "stream",
     "text": [
      "val\n",
      "data_loader loaded\n",
      "Init... ./output/tmp/vvn/collide2_newrgb_cvp_traj_comb_late_fact_gc_n2e2n_Ppix1_iter10.pth\n",
      "model loaded\n"
     ]
    }
   ],
   "source": [
    "from tqdm import tqdm\n",
    "import numpy as np\n",
    "\n",
    "data_loader = model_utils.build_loaders(args)  # change to image\n",
    "print('data_loader loaded')\n",
    "model = model_utils.build_all_model(args)  # CNN, GCN, Encoder, Decoder\n",
    "print('model loaded')"
   ]
  },
  {
   "cell_type": "code",
   "execution_count": 5,
   "metadata": {},
   "outputs": [
    {
     "name": "stderr",
     "output_type": "stream",
     "text": [
      "\r",
      "  0%|          | 0/20 [00:00<?, ?it/s]"
     ]
    },
    {
     "name": "stdout",
     "output_type": "stream",
     "text": [
      "dict_keys(['real_maskl', 'real_recon', 'pred_recon', 'bbox', 'orig_z', 'kl_loss', 'appr', 'pred_maskl'])\n"
     ]
    },
    {
     "name": "stderr",
     "output_type": "stream",
     "text": [
      " 50%|█████     | 10/20 [01:33<01:33,  9.34s/it]\n"
     ]
    },
    {
     "ename": "IndexError",
     "evalue": "list index out of range",
     "output_type": "error",
     "traceback": [
      "\u001b[0;31m---------------------------------------------------------------------------\u001b[0m",
      "\u001b[0;31mIndexError\u001b[0m                                Traceback (most recent call last)",
      "\u001b[0;32m<ipython-input-5-3d5c800ac582>\u001b[0m in \u001b[0;36m<module>\u001b[0;34m\u001b[0m\n\u001b[1;32m     13\u001b[0m         \u001b[0;32mif\u001b[0m \u001b[0mcnt\u001b[0m \u001b[0;34m==\u001b[0m \u001b[0;36m0\u001b[0m\u001b[0;34m:\u001b[0m\u001b[0;34m\u001b[0m\u001b[0m\n\u001b[1;32m     14\u001b[0m             \u001b[0mprint\u001b[0m\u001b[0;34m(\u001b[0m\u001b[0mpredictions\u001b[0m\u001b[0;34m.\u001b[0m\u001b[0mkeys\u001b[0m\u001b[0;34m(\u001b[0m\u001b[0;34m)\u001b[0m\u001b[0;34m)\u001b[0m\u001b[0;34m\u001b[0m\u001b[0m\n\u001b[0;32m---> 15\u001b[0;31m         \u001b[0mdata\u001b[0m\u001b[0;34m[\u001b[0m\u001b[0mcnt\u001b[0m\u001b[0;34m]\u001b[0m\u001b[0;34m[\u001b[0m\u001b[0;34m'predictions'\u001b[0m\u001b[0;34m]\u001b[0m \u001b[0;34m=\u001b[0m \u001b[0mpredictions\u001b[0m\u001b[0;34m[\u001b[0m\u001b[0;34m'bbox'\u001b[0m\u001b[0;34m]\u001b[0m\u001b[0;34m.\u001b[0m\u001b[0mcpu\u001b[0m\u001b[0;34m(\u001b[0m\u001b[0;34m)\u001b[0m\u001b[0;34m.\u001b[0m\u001b[0mnumpy\u001b[0m\u001b[0;34m(\u001b[0m\u001b[0;34m)\u001b[0m\u001b[0;34m.\u001b[0m\u001b[0msqueeze\u001b[0m\u001b[0;34m(\u001b[0m\u001b[0;36m1\u001b[0m\u001b[0;34m)\u001b[0m\u001b[0;34m\u001b[0m\u001b[0m\n\u001b[0m\u001b[1;32m     16\u001b[0m         \u001b[0mimages\u001b[0m \u001b[0;34m=\u001b[0m \u001b[0;34m[\u001b[0m\u001b[0;34m]\u001b[0m\u001b[0;34m\u001b[0m\u001b[0m\n\u001b[1;32m     17\u001b[0m         \u001b[0;32mfor\u001b[0m \u001b[0mi\u001b[0m \u001b[0;32min\u001b[0m \u001b[0mrange\u001b[0m\u001b[0;34m(\u001b[0m\u001b[0;36m10\u001b[0m\u001b[0;34m)\u001b[0m\u001b[0;34m:\u001b[0m\u001b[0;34m\u001b[0m\u001b[0m\n",
      "\u001b[0;31mIndexError\u001b[0m: list index out of range"
     ]
    }
   ],
   "source": [
    "from PIL import Image\n",
    "\n",
    "offset = 4000\n",
    "cnt = 0\n",
    "batch_size = 10\n",
    "\n",
    "data = [dict() for _ in range(batch_size)]\n",
    "        \n",
    "for batch in tqdm(data_loader):\n",
    "    with torch.no_grad():\n",
    "        #predictions = model.forward_inception(batch, args.dt)\n",
    "        predictions = model.forward(batch)\n",
    "        if cnt == 0:\n",
    "            print(predictions.keys())\n",
    "        data[cnt]['predictions'] = predictions['bbox'].cpu().numpy().squeeze(1)\n",
    "        images = []\n",
    "        for i in range(10):\n",
    "            image_path = '/mnt/fs4/fanyun/cvp_stimulis/collide2_new/{}/rgb-cam_1-{:02d}.jpg'.format(offset+cnt, i)\n",
    "            im = Image.open(image_path)\n",
    "            images.append(np.array(im))\n",
    "        data[cnt]['images'] = np.array(images)\n",
    "        data[cnt]['labels'] = np.load('/mnt/fs4/fanyun/cvp_stimulis/collide2_new/{}/cam_1.npy'.format(offset+cnt))\n",
    "\n",
    "        cnt += 1"
   ]
  },
  {
   "cell_type": "code",
   "execution_count": null,
   "metadata": {},
   "outputs": [],
   "source": [
    "%matplotlib inline\n",
    "import os\n",
    "import matplotlib.pyplot as plt\n",
    "from cv2 import VideoWriter, VideoWriter_fourcc\n",
    "import numpy as np\n",
    "import pickle\n",
    "\n",
    "def draw_bounding_boxes(image, bboxes, color = [0, 255, 0]):\n",
    "    color = np.array(color, dtype=np.uint8)\n",
    "    for box in bboxes:\n",
    "        box = np.round(box).astype(np.int32)\n",
    "        \n",
    "        box[1] = np.minimum(image.shape[0] - 1, np.maximum(0, box[1]))\n",
    "        box[3] = np.minimum(image.shape[0] - 1, np.maximum(0, box[3]))\n",
    "        box[0] = np.minimum(image.shape[1] - 1, np.maximum(0, box[0]))\n",
    "        box[2] = np.minimum(image.shape[1] - 1, np.maximum(0, box[2]))\n",
    "        \n",
    "        image[box[1], box[0]:box[2]] = color\n",
    "        image[box[1]:box[3], box[0]] = color\n",
    "        image[box[3], box[0]:box[2]] = color\n",
    "        image[box[1]:box[3], box[2]] = color\n",
    "    return image\n",
    "\n",
    "def draw_positions(image, positions, color = [255, 0, 0], size = 2):\n",
    "    color = np.array(color, dtype=np.uint8)\n",
    "    for pos in positions:\n",
    "        pos = np.round(pos).astype(np.int32)\n",
    "        \n",
    "        pos[0] = np.minimum(image.shape[1] - 1, np.maximum(0, pos[0]))\n",
    "        pos[1] = np.minimum(image.shape[0] - 1, np.maximum(1, pos[1]))\n",
    "        \n",
    "        #image[pos[1]-size:pos[1]+size, pos[0]-size:pos[0]+size] = color\n",
    "        image[pos[0]-size:pos[0]+size, pos[1]-size:pos[1]+size] = color\n",
    "    return image\n",
    "\n",
    "def make_videos(images, video_file, FPS=20):\n",
    "    fourcc = VideoWriter_fourcc(*'MP4V')\n",
    "    extension = \".mp4\"\n",
    "\n",
    "    height = images.shape[-3]\n",
    "    width = images.shape[-2]\n",
    "    video_file = video_file + extension\n",
    "    video = VideoWriter(video_file, fourcc, float(FPS), (width, height))\n",
    "    for tidx, time_images in enumerate(images):\n",
    "        video.write(time_images)\n",
    "    video.release()"
   ]
  },
  {
   "cell_type": "code",
   "execution_count": null,
   "metadata": {
    "scrolled": false
   },
   "outputs": [],
   "source": [
    "print(data[0]['labels'].shape)\n",
    "print(data[0]['predictions'].shape)\n",
    "\n",
    "\n",
    "seq = 0\n",
    "\n",
    "time_steps = len(data[seq]['labels'])\n",
    "print(time_steps)\n",
    "for t in range(time_steps):\n",
    "    image = data[seq]['images'][t].copy()\n",
    "    labels = data[seq]['labels'][t] * 256\n",
    "    predictions = data[seq]['predictions'][t] * 256\n",
    "\n",
    "    cg = int(255 / time_steps * t)\n",
    "    image = draw_positions(image, labels, color = [255, 0, 0])\n",
    "    image = draw_positions(image, predictions, color = [0, 0, 255])\n",
    "    plt.figure(figsize=(7,7))\n",
    "    plt.imshow(image)\n",
    "    ax = plt.title('red = ground truth | blue = predictions')"
   ]
  },
  {
   "cell_type": "code",
   "execution_count": null,
   "metadata": {},
   "outputs": [],
   "source": [
    "time_steps = 10\n",
    "def sequence_to_video(data, seq, output_dir):\n",
    "    #offset = data[seq]['images'].shape[0]\n",
    "    offset = 0\n",
    "    images = data[seq]['images'].copy()\n",
    "    #bboxes = data[seq]['raw_bboxes']\n",
    "    for t in range(time_steps):\n",
    "        labels = data[seq]['labels'][t] * 256\n",
    "        images[t+offset] = draw_positions(images[t+offset], labels, color = [255, 0, 0])\n",
    "\n",
    "        predictions = data[seq]['predictions'][t] * 256\n",
    "        images[t+offset] = draw_positions(images[t+offset], predictions, color = [0, 0, 255])\n",
    "\n",
    "        #images[t+offset] = draw_bounding_boxes(images[t+offset], bboxes[t])\n",
    "\n",
    "    video_file = os.path.join(output_dir, str(seq))\n",
    "    make_videos(np.array(images), video_file, FPS=20)\n",
    "\n",
    "output_dir = './videos'\n",
    "for seq in range(len(data)):\n",
    "    sequence_to_video(data, seq, output_dir)\n",
    "print('%d videos stored at %s' % (len(data), output_dir))"
   ]
  }
 ],
 "metadata": {
  "kernelspec": {
   "display_name": "Python 3",
   "language": "python",
   "name": "python3"
  },
  "language_info": {
   "codemirror_mode": {
    "name": "ipython",
    "version": 3
   },
   "file_extension": ".py",
   "mimetype": "text/x-python",
   "name": "python",
   "nbconvert_exporter": "python",
   "pygments_lexer": "ipython3",
   "version": "3.5.2"
  }
 },
 "nbformat": 4,
 "nbformat_minor": 2
}
